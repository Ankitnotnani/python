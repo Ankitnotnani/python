{
  "nbformat": 4,
  "nbformat_minor": 0,
  "metadata": {
    "colab": {
      "provenance": [],
      "authorship_tag": "ABX9TyPB4Xz9fv33pBcEiQXljrLO",
      "include_colab_link": true
    },
    "kernelspec": {
      "name": "python3",
      "display_name": "Python 3"
    },
    "language_info": {
      "name": "python"
    }
  },
  "cells": [
    {
      "cell_type": "markdown",
      "metadata": {
        "id": "view-in-github",
        "colab_type": "text"
      },
      "source": [
        "<a href=\"https://colab.research.google.com/github/Ankitnotnani/python/blob/main/python%20project%20major.ipynb\" target=\"_parent\"><img src=\"https://colab.research.google.com/assets/colab-badge.svg\" alt=\"Open In Colab\"/></a>"
      ]
    },
    {
      "cell_type": "code",
      "execution_count": 2,
      "metadata": {
        "id": "Of4z0aSAtKvb",
        "outputId": "058f0fc0-54d0-4eac-cd14-6c1679f23cce",
        "colab": {
          "base_uri": "https://localhost:8080/"
        }
      },
      "outputs": [
        {
          "output_type": "stream",
          "name": "stdout",
          "text": [
            "Available Cars:\n",
            "Toyota Corolla 2020\n",
            "Honda city 2021\n",
            "Ford endeavour 2019\n",
            "Rented: Toyota Corolla 2020\n",
            "Available Cars:\n",
            "Honda city 2021\n",
            "Ford endeavour 2019\n",
            "Returned: Toyota Corolla 2020\n",
            "Available Cars:\n",
            "Toyota Corolla 2020\n",
            "Honda city 2021\n",
            "Ford endeavour 2019\n"
          ]
        }
      ],
      "source": [
        "class Car:\n",
        "    def __init__(self, make, model, year, available=True):\n",
        "        self.make = make\n",
        "        self.model = model\n",
        "        self.year = year\n",
        "        self.available = available\n",
        "\n",
        "class CarRental:\n",
        "    def __init__(self):\n",
        "        self.cars = []\n",
        "\n",
        "    def add_car(self, car):\n",
        "        self.cars.append(car)\n",
        "\n",
        "    def rent_car(self, make, model):\n",
        "        for car in self.cars:\n",
        "            if car.make == make and car.model == model and car.available:\n",
        "                car.available = False\n",
        "                print(f\"Rented: {car.make} {car.model} {car.year}\")\n",
        "                return\n",
        "        print(\"Car not available for rent.\")\n",
        "\n",
        "    def return_car(self, make, model):\n",
        "        for car in self.cars:\n",
        "            if car.make == make and car.model == model and not car.available:\n",
        "                car.available = True\n",
        "                print(f\"Returned: {car.make} {car.model} {car.year}\")\n",
        "                return\n",
        "        print(\"Car was not rented or does not exist.\")\n",
        "\n",
        "    def display_available_cars(self):\n",
        "        print(\"Available Cars:\")\n",
        "        for car in self.cars:\n",
        "            if car.available:\n",
        "                print(f\"{car.make} {car.model} {car.year}\")\n",
        "\n",
        "car_rental_system = CarRental()\n",
        "\n",
        "car_rental_system.add_car(Car(\"Toyota\", \"Corolla\", 2020))\n",
        "car_rental_system.add_car(Car(\"Honda\", \"city\", 2021))\n",
        "car_rental_system.add_car(Car(\"Ford\", \"endeavour\", 2019))\n",
        "\n",
        "car_rental_system.display_available_cars()\n",
        "\n",
        "car_rental_system.rent_car(\"Toyota\", \"Corolla\")\n",
        "\n",
        "car_rental_system.display_available_cars()\n",
        "\n",
        "car_rental_system.return_car(\"Toyota\", \"Corolla\")\n",
        "\n",
        "car_rental_system.display_available_cars()\n"
      ]
    }
  ]
}