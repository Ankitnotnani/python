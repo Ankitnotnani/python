{
  "nbformat": 4,
  "nbformat_minor": 0,
  "metadata": {
    "colab": {
      "provenance": [],
      "authorship_tag": "ABX9TyMV9DuQvaiZn47XP7arFsdk",
      "include_colab_link": true
    },
    "kernelspec": {
      "name": "python3",
      "display_name": "Python 3"
    },
    "language_info": {
      "name": "python"
    }
  },
  "cells": [
    {
      "cell_type": "markdown",
      "metadata": {
        "id": "view-in-github",
        "colab_type": "text"
      },
      "source": [
        "<a href=\"https://colab.research.google.com/github/Ankitnotnani/python/blob/main/Untitled0.ipynb\" target=\"_parent\"><img src=\"https://colab.research.google.com/assets/colab-badge.svg\" alt=\"Open In Colab\"/></a>"
      ]
    },
    {
      "cell_type": "code",
      "execution_count": null,
      "metadata": {
        "id": "FmVnaRM1i2-0"
      },
      "outputs": [],
      "source": [
        "print('hello world')\n",
        "a = input('enter an integer ')\n",
        "b = input('enter an integer ')\n",
        "c = int(a+b)\n",
        "print(c)"
      ]
    },
    {
      "cell_type": "code",
      "source": [
        "\n",
        "sum = 10+20*50\n",
        "print('sum')\n",
        "print(sum)"
      ],
      "metadata": {
        "id": "89vAWxPomOtP"
      },
      "execution_count": null,
      "outputs": []
    },
    {
      "cell_type": "code",
      "source": [
        "print(\"press 1 to start the car\")\n",
        "print(\"press 2 to stop the car\")\n",
        "print(\"press 3 for help\")\n",
        "a = int(input(\"enter your choice \"))\n",
        "if a==1:\n",
        "  print(\"car started \")\n",
        "elif a==2:\n",
        "    print(\"car stopped \")\n",
        "elif a==3:\n",
        "      print(\"press 1 for starting and 2 for stopping\")\n",
        "      print(\"any other digit to quit \")\n",
        "else:\n",
        "        print(\"invalid choice \")\n",
        "        print(\"process ended\")"
      ],
      "metadata": {
        "id": "n8PU46Fom7cS"
      },
      "execution_count": null,
      "outputs": []
    },
    {
      "cell_type": "code",
      "source": [
        "list_1 = [i for i in range(41) if i%2==0]\n",
        "print(\"even numbers between 0 to 40 are \" , list_1)"
      ],
      "metadata": {
        "id": "uogRaHfvhVJl"
      },
      "execution_count": null,
      "outputs": []
    },
    {
      "cell_type": "code",
      "source": [
        "list_2 = (1,2,3,4.0,'ankit')\n",
        "print(list_2)"
      ],
      "metadata": {
        "id": "1ttRVdsGjdhZ"
      },
      "execution_count": null,
      "outputs": []
    },
    {
      "cell_type": "code",
      "source": [
        "Dict = {'RollNo' : '16/001', 'Name' : 'Arav', 'Course' : 'BTech'}\n",
        "print (\"Dict[RollNo] = \", Dict['RollNo'])\n",
        "print (\"Dict[NAME] = \", Dict ['Name'])\n",
        "print(\"Dict[COURSE) = \", Dict['Course'])\n"
      ],
      "metadata": {
        "id": "nDxx_43jj19D"
      },
      "execution_count": null,
      "outputs": []
    },
    {
      "cell_type": "code",
      "source": [
        "list = [i for i in range(21)]\n",
        "for num in list:\n",
        " if num%2==0:\n",
        "  print(\"even :-\" ,num)\n",
        " else:\n",
        "  print(\"odd :-\" ,num)"
      ],
      "metadata": {
        "id": "tG25DV-PqZiI"
      },
      "execution_count": null,
      "outputs": []
    },
    {
      "cell_type": "code",
      "source": [
        "num1 = int(input(\"Enter First No.: \"))\n",
        "num2 = int(input(\"Enter Second No.: \"))\n",
        "ch = input(\"enter an operator +,-,*,/: \")\n",
        "result = 0\n",
        "if ch == '+':\n",
        "    result = num1 + num2\n",
        "elif ch == '-':\n",
        "    result = num1 - num2\n",
        "elif ch == '*':\n",
        "    result = num1 * num2\n",
        "elif ch == '/':\n",
        "    result = num1 / num2\n",
        "else:\n",
        "    print(\"invalid input \")\n",
        "print(num1, ch , num2, \":\", result)"
      ],
      "metadata": {
        "id": "K7tR-SVGsjTc"
      },
      "execution_count": null,
      "outputs": []
    },
    {
      "cell_type": "code",
      "source": [
        "def CheckLeap(year):\n",
        "  if(year%400==0):\n",
        "   print(\"leap year\")\n",
        "  else:\n",
        "   print(\"not a leap year\")\n",
        "year = int(input(\"Enter the number: \"))\n",
        "CheckLeap(year)"
      ],
      "metadata": {
        "id": "4iRT5yk6JDal"
      },
      "execution_count": null,
      "outputs": []
    },
    {
      "cell_type": "code",
      "source": [
        "list1 = []\n",
        "num = int(input(\"Enter number of elements in list: \"))\n",
        "for i in range(1, num + 1):\n",
        "    ele = int(input(\"Enter elements: \"))\n",
        "    list1.append(ele)\n",
        "print(\"Largest element is:\", max(list1))"
      ],
      "metadata": {
        "id": "WZhK4ZP9Kmww"
      },
      "execution_count": null,
      "outputs": []
    },
    {
      "cell_type": "code",
      "source": [
        "#python project\n",
        "\n",
        "\n",
        "import random\n",
        "\n",
        "def guess_the_number():\n",
        "    print(\"Welcome to Guess the Number!\")\n",
        "    print(\"I'm thinking of a number between 1 and 100.\")\n",
        "    secret_number = random.randint(1, 100)\n",
        "\n",
        "    attempts = 0\n",
        "    while True:\n",
        "        try:\n",
        "            guess = int(input(\"Take a guess: \"))\n",
        "            attempts += 1\n",
        "\n",
        "            if guess < secret_number:\n",
        "                print(\"Too low! Try again.\")\n",
        "            elif guess > secret_number:\n",
        "                print(\"Too high! Try again.\")\n",
        "            else:\n",
        "                print(f\"Congratulations! You've guessed the number in {attempts} attempts!\")\n",
        "                break\n",
        "        except ValueError:\n",
        "            print(\"Invalid input. Please enter a valid number.\")\n",
        "\n",
        "guess_the_number()"
      ],
      "metadata": {
        "id": "CQU7dscUge7G"
      },
      "execution_count": null,
      "outputs": []
    },
    {
      "cell_type": "code",
      "source": [
        "#write a class that takes a number n and print all its divisibles before 100\n",
        "\n",
        "class divisibleby11:\n",
        " def __init__(self,n):\n",
        "   self.n=n\n",
        "\n",
        " def generate_divisible_by_11(self):\n",
        "  for num in range(self.n+1):\n",
        "    if num%11==0:\n",
        "      print(num)\n",
        "\n",
        "dbs=divisibleby11(100)\n",
        "dbs.generate_divisible_by_11()"
      ],
      "metadata": {
        "id": "ULttPf0cADdQ"
      },
      "execution_count": null,
      "outputs": []
    },
    {
      "cell_type": "code",
      "source": [
        "PiP install numpy\n",
        "import numpy as np\n",
        "t1 = (5,6,0,3)\n",
        "Arr = np array[t]\n"
      ],
      "metadata": {
        "id": "YsqFca-tCDiK"
      },
      "execution_count": null,
      "outputs": []
    },
    {
      "cell_type": "code",
      "source": [
        "class Car:\n",
        "    def __init__(self, make, model, year, available=True):\n",
        "        self.make = make\n",
        "        self.model = model\n",
        "        self.year = year\n",
        "        self.available = available\n",
        "\n",
        "class CarRental:\n",
        "    def __init__(self):\n",
        "        self.cars = []\n",
        "\n",
        "    def add_car(self, car):\n",
        "        self.cars.append(car)\n",
        "\n",
        "    def rent_car(self, make, model):\n",
        "        for car in self.cars:\n",
        "            if car.make == make and car.model == model and car.available:\n",
        "                car.available = False\n",
        "                print(f\"Rented: {car.make} {car.model} {car.year}\")\n",
        "                return\n",
        "        print(\"Car not available for rent.\")\n",
        "\n",
        "    def return_car(self, make, model):\n",
        "        for car in self.cars:\n",
        "            if car.make == make and car.model == model and not car.available:\n",
        "                car.available = True\n",
        "                print(f\"Returned: {car.make} {car.model} {car.year}\")\n",
        "                return\n",
        "        print(\"Car was not rented or does not exist.\")\n",
        "\n",
        "    def display_available_cars(self):\n",
        "        print(\"Available Cars:\")\n",
        "        for car in self.cars:\n",
        "            if car.available:\n",
        "                print(f\"{car.make} {car.model} {car.year}\")\n",
        "\n",
        "car_rental_system = CarRental()\n",
        "\n",
        "car_rental_system.add_car(Car(\"Toyota\", \"Corolla\", 2020))\n",
        "car_rental_system.add_car(Car(\"Honda\", \"city\", 2021))\n",
        "car_rental_system.add_car(Car(\"Ford\", \"endeavour\", 2019))\n",
        "\n",
        "car_rental_system.display_available_cars()\n",
        "\n",
        "car_rental_system.rent_car(\"Toyota\", \"Corolla\")\n",
        "\n",
        "car_rental_system.display_available_cars()\n",
        "\n",
        "car_rental_system.return_car(\"Toyota\", \"Corolla\")\n",
        "\n",
        "car_rental_system.display_available_cars()\n"
      ],
      "metadata": {
        "colab": {
          "base_uri": "https://localhost:8080/"
        },
        "id": "AEJSwS8gif74",
        "outputId": "77f8740c-8a91-4b76-9cc4-ab44d11623dd"
      },
      "execution_count": null,
      "outputs": [
        {
          "output_type": "stream",
          "name": "stdout",
          "text": [
            "Available Cars:\n",
            "Toyota Corolla 2020\n",
            "Honda city 2021\n",
            "Ford endeavour 2019\n",
            "Rented: Toyota Corolla 2020\n",
            "Available Cars:\n",
            "Honda city 2021\n",
            "Ford endeavour 2019\n",
            "Returned: Toyota Corolla 2020\n",
            "Available Cars:\n",
            "Toyota Corolla 2020\n",
            "Honda city 2021\n",
            "Ford endeavour 2019\n"
          ]
        }
      ]
    }
  ]
}